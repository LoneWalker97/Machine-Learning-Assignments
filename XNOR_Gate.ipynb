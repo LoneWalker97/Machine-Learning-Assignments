{
 "cells": [
  {
   "cell_type": "code",
   "execution_count": 10,
   "metadata": {},
   "outputs": [
    {
     "name": "stdout",
     "output_type": "stream",
     "text": [
      "WARNING:tensorflow:From /Anaconda/anaconda3/lib/python3.6/site-packages/tensorflow/python/util/tf_should_use.py:170: initialize_all_variables (from tensorflow.python.ops.variables) is deprecated and will be removed after 2017-03-02.\n",
      "Instructions for updating:\n",
      "Use `tf.global_variables_initializer` instead.\n",
      "\n",
      "step:   0\n",
      "loss: 0.2621462941169739\n",
      "\n",
      "step: 200\n",
      "loss: 0.07577106356620789\n",
      "\n",
      "step: 400\n",
      "loss: 0.01072179526090622\n",
      "\n",
      "step: 600\n",
      "loss: 0.004317873157560825\n",
      "\n",
      "step: 800\n",
      "loss: 0.0023898242507129908\n",
      "\n",
      "step: 1000\n",
      "loss: 0.0015331804752349854\n",
      "\n",
      "step: 1200\n",
      "loss: 0.001070924336090684\n",
      "\n",
      "step: 1400\n",
      "loss: 0.0007904453086666763\n",
      "\n",
      "step: 1600\n",
      "loss: 0.000606341112870723\n",
      "\n",
      "step: 1800\n",
      "loss: 0.0004784858028870076\n",
      "\n",
      "step: 2000\n",
      "loss: 0.00038584647700190544\n",
      "\n",
      "input: [0.0, 0.0] | output: [[ 0.98402137]]\n",
      "input: [0.0, 1.0] | output: [[ 0.02196419]]\n",
      "input: [1.0, 0.0] | output: [[ 0.02124603]]\n",
      "input: [1.0, 1.0] | output: [[ 0.98122072]]\n"
     ]
    }
   ],
   "source": [
    "import tensorflow as tf    \n",
    "\n",
    "input_data = [[0., 0.], [0., 1.], [1., 0.], [1., 1.]]  # XOR input\n",
    "output_data = [[1.], [0.], [0.], [1.]]  # XOR output\n",
    "\n",
    "n_input = tf.placeholder(tf.float32, shape=[None, 2], name=\"n_input\")\n",
    "n_output = tf.placeholder(tf.float32, shape=[None, 1], name=\"n_output\")\n",
    "\n",
    "hidden_nodes = 5\n",
    "\n",
    "b_hidden = tf.Variable(tf.random_normal([hidden_nodes]), name=\"hidden_bias\")\n",
    "W_hidden = tf.Variable(tf.random_normal([2, hidden_nodes]), name=\"hidden_weights\")\n",
    "hidden = tf.sigmoid(tf.matmul(n_input, W_hidden) + b_hidden)\n",
    "\n",
    "W_output = tf.Variable(tf.random_normal([hidden_nodes, 1]), name=\"output_weights\")  # output layer's weight matrix\n",
    "output = tf.sigmoid(tf.matmul(hidden, W_output))  # calc output layer's activation\n",
    "\n",
    "cross_entropy = tf.square(n_output - output)  # simpler, but also works\n",
    "\n",
    "loss = tf.reduce_mean(cross_entropy)  # mean the cross_entropy\n",
    "optimizer = tf.train.AdamOptimizer(0.01)  # take a gradient descent for optimizing with a \"stepsize\" of 0.1\n",
    "train = optimizer.minimize(loss)  # let the optimizer train\n",
    "\n",
    "init = tf.initialize_all_variables()\n",
    "\n",
    "sess = tf.Session()  # create the session and therefore the graph\n",
    "sess.run(init)  # initialize all variables  \n",
    "\n",
    "for epoch in range(0, 2001):\n",
    "    # run the training operation\n",
    "    cvalues = sess.run([train, loss, W_hidden, b_hidden, W_output],\n",
    "                       feed_dict={n_input: input_data, n_output: output_data})\n",
    "\n",
    "    if epoch % 200 == 0:\n",
    "        print(\"\")\n",
    "        print(\"step: {:>3}\".format(epoch))\n",
    "        print(\"loss: {}\".format(cvalues[1]))\n",
    "\n",
    "print(\"\")\n",
    "print(\"input: {} | output: {}\".format(input_data[0], sess.run(output, feed_dict={n_input: [input_data[0]]})))\n",
    "print(\"input: {} | output: {}\".format(input_data[1], sess.run(output, feed_dict={n_input: [input_data[1]]})))\n",
    "print(\"input: {} | output: {}\".format(input_data[2], sess.run(output, feed_dict={n_input: [input_data[2]]})))\n",
    "print(\"input: {} | output: {}\".format(input_data[3], sess.run(output, feed_dict={n_input: [input_data[3]]})))"
   ]
  },
  {
   "cell_type": "code",
   "execution_count": null,
   "metadata": {
    "collapsed": true
   },
   "outputs": [],
   "source": []
  }
 ],
 "metadata": {
  "kernelspec": {
   "display_name": "Python 3",
   "language": "python",
   "name": "python3"
  },
  "language_info": {
   "codemirror_mode": {
    "name": "ipython",
    "version": 3
   },
   "file_extension": ".py",
   "mimetype": "text/x-python",
   "name": "python",
   "nbconvert_exporter": "python",
   "pygments_lexer": "ipython3",
   "version": "3.6.1"
  }
 },
 "nbformat": 4,
 "nbformat_minor": 2
}
