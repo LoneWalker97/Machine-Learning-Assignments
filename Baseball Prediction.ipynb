{
 "cells": [
  {
   "cell_type": "code",
   "execution_count": 6,
   "metadata": {},
   "outputs": [],
   "source": [
    "import pandas as pd\n",
    "import numpy as np\n",
    "import sqlite3\n",
    "\n",
    "conn = sqlite3.connect('lahman2016.sqlite')"
   ]
  },
  {
   "cell_type": "code",
   "execution_count": 13,
   "metadata": {
    "collapsed": true
   },
   "outputs": [],
   "source": [
    "query = '''select * from Teams \n",
    "inner join TeamsFranchises\n",
    "on Teams.franchID == TeamsFranchises.franchID\n",
    "where Teams.G >= 150 and TeamsFranchises.active == 'Y';\n",
    "'''\n",
    "\n",
    "# Creating dataframe from query.\n",
    "teams = conn.execute(query).fetchall()\n",
    "# Convert `Teams` to DataFrame\n",
    "teams_df = pd.DataFrame(teams)"
   ]
  },
  {
   "cell_type": "code",
   "execution_count": 14,
   "metadata": {},
   "outputs": [],
   "source": [
    "cols = ['yearID','lgID','teamID','franchID','divID','Rank','G','Ghome','W','L','DivWin','WCWin','LgWin','WSWin','R','AB','H','2B','3B','HR','BB','SO','SB','CS','HBP','SF','RA','ER','ERA','CG','SHO','SV','IPouts','HA','HRA','BBA','SOA','E','DP','FP','name','park','attendance','BPF','PPF','teamIDBR','teamIDlahman45','teamIDretro','franchID','franchName','active','NAassoc']\n",
    "teams_df.columns = cols"
   ]
  },
  {
   "cell_type": "code",
   "execution_count": 15,
   "metadata": {},
   "outputs": [
    {
     "data": {
      "text/html": [
       "<div>\n",
       "<style>\n",
       "    .dataframe thead tr:only-child th {\n",
       "        text-align: right;\n",
       "    }\n",
       "\n",
       "    .dataframe thead th {\n",
       "        text-align: left;\n",
       "    }\n",
       "\n",
       "    .dataframe tbody tr th {\n",
       "        vertical-align: top;\n",
       "    }\n",
       "</style>\n",
       "<table border=\"1\" class=\"dataframe\">\n",
       "  <thead>\n",
       "    <tr style=\"text-align: right;\">\n",
       "      <th></th>\n",
       "      <th>yearID</th>\n",
       "      <th>lgID</th>\n",
       "      <th>teamID</th>\n",
       "      <th>franchID</th>\n",
       "      <th>divID</th>\n",
       "      <th>Rank</th>\n",
       "      <th>G</th>\n",
       "      <th>Ghome</th>\n",
       "      <th>W</th>\n",
       "      <th>L</th>\n",
       "      <th>...</th>\n",
       "      <th>attendance</th>\n",
       "      <th>BPF</th>\n",
       "      <th>PPF</th>\n",
       "      <th>teamIDBR</th>\n",
       "      <th>teamIDlahman45</th>\n",
       "      <th>teamIDretro</th>\n",
       "      <th>franchID</th>\n",
       "      <th>franchName</th>\n",
       "      <th>active</th>\n",
       "      <th>NAassoc</th>\n",
       "    </tr>\n",
       "  </thead>\n",
       "  <tbody>\n",
       "    <tr>\n",
       "      <th>0</th>\n",
       "      <td>1961</td>\n",
       "      <td>AL</td>\n",
       "      <td>LAA</td>\n",
       "      <td>ANA</td>\n",
       "      <td>None</td>\n",
       "      <td>8</td>\n",
       "      <td>162</td>\n",
       "      <td>82.0</td>\n",
       "      <td>70</td>\n",
       "      <td>91</td>\n",
       "      <td>...</td>\n",
       "      <td>603510</td>\n",
       "      <td>111</td>\n",
       "      <td>112</td>\n",
       "      <td>LAA</td>\n",
       "      <td>LAA</td>\n",
       "      <td>LAA</td>\n",
       "      <td>ANA</td>\n",
       "      <td>Los Angeles Angels of Anaheim</td>\n",
       "      <td>Y</td>\n",
       "      <td>None</td>\n",
       "    </tr>\n",
       "    <tr>\n",
       "      <th>1</th>\n",
       "      <td>1962</td>\n",
       "      <td>AL</td>\n",
       "      <td>LAA</td>\n",
       "      <td>ANA</td>\n",
       "      <td>None</td>\n",
       "      <td>3</td>\n",
       "      <td>162</td>\n",
       "      <td>81.0</td>\n",
       "      <td>86</td>\n",
       "      <td>76</td>\n",
       "      <td>...</td>\n",
       "      <td>1144063</td>\n",
       "      <td>97</td>\n",
       "      <td>97</td>\n",
       "      <td>LAA</td>\n",
       "      <td>LAA</td>\n",
       "      <td>LAA</td>\n",
       "      <td>ANA</td>\n",
       "      <td>Los Angeles Angels of Anaheim</td>\n",
       "      <td>Y</td>\n",
       "      <td>None</td>\n",
       "    </tr>\n",
       "    <tr>\n",
       "      <th>2</th>\n",
       "      <td>1963</td>\n",
       "      <td>AL</td>\n",
       "      <td>LAA</td>\n",
       "      <td>ANA</td>\n",
       "      <td>None</td>\n",
       "      <td>9</td>\n",
       "      <td>161</td>\n",
       "      <td>81.0</td>\n",
       "      <td>70</td>\n",
       "      <td>91</td>\n",
       "      <td>...</td>\n",
       "      <td>821015</td>\n",
       "      <td>94</td>\n",
       "      <td>94</td>\n",
       "      <td>LAA</td>\n",
       "      <td>LAA</td>\n",
       "      <td>LAA</td>\n",
       "      <td>ANA</td>\n",
       "      <td>Los Angeles Angels of Anaheim</td>\n",
       "      <td>Y</td>\n",
       "      <td>None</td>\n",
       "    </tr>\n",
       "    <tr>\n",
       "      <th>3</th>\n",
       "      <td>1964</td>\n",
       "      <td>AL</td>\n",
       "      <td>LAA</td>\n",
       "      <td>ANA</td>\n",
       "      <td>None</td>\n",
       "      <td>5</td>\n",
       "      <td>162</td>\n",
       "      <td>81.0</td>\n",
       "      <td>82</td>\n",
       "      <td>80</td>\n",
       "      <td>...</td>\n",
       "      <td>760439</td>\n",
       "      <td>90</td>\n",
       "      <td>90</td>\n",
       "      <td>LAA</td>\n",
       "      <td>LAA</td>\n",
       "      <td>LAA</td>\n",
       "      <td>ANA</td>\n",
       "      <td>Los Angeles Angels of Anaheim</td>\n",
       "      <td>Y</td>\n",
       "      <td>None</td>\n",
       "    </tr>\n",
       "    <tr>\n",
       "      <th>4</th>\n",
       "      <td>1965</td>\n",
       "      <td>AL</td>\n",
       "      <td>CAL</td>\n",
       "      <td>ANA</td>\n",
       "      <td>None</td>\n",
       "      <td>7</td>\n",
       "      <td>162</td>\n",
       "      <td>80.0</td>\n",
       "      <td>75</td>\n",
       "      <td>87</td>\n",
       "      <td>...</td>\n",
       "      <td>566727</td>\n",
       "      <td>97</td>\n",
       "      <td>98</td>\n",
       "      <td>CAL</td>\n",
       "      <td>CAL</td>\n",
       "      <td>CAL</td>\n",
       "      <td>ANA</td>\n",
       "      <td>Los Angeles Angels of Anaheim</td>\n",
       "      <td>Y</td>\n",
       "      <td>None</td>\n",
       "    </tr>\n",
       "  </tbody>\n",
       "</table>\n",
       "<p>5 rows × 52 columns</p>\n",
       "</div>"
      ],
      "text/plain": [
       "   yearID lgID teamID  franchID divID  Rank    G  Ghome   W   L   ...     \\\n",
       "0    1961   AL    LAA       ANA  None     8  162   82.0  70  91   ...      \n",
       "1    1962   AL    LAA       ANA  None     3  162   81.0  86  76   ...      \n",
       "2    1963   AL    LAA       ANA  None     9  161   81.0  70  91   ...      \n",
       "3    1964   AL    LAA       ANA  None     5  162   81.0  82  80   ...      \n",
       "4    1965   AL    CAL       ANA  None     7  162   80.0  75  87   ...      \n",
       "\n",
       "  attendance  BPF  PPF teamIDBR  teamIDlahman45  teamIDretro  franchID  \\\n",
       "0     603510  111  112      LAA             LAA          LAA       ANA   \n",
       "1    1144063   97   97      LAA             LAA          LAA       ANA   \n",
       "2     821015   94   94      LAA             LAA          LAA       ANA   \n",
       "3     760439   90   90      LAA             LAA          LAA       ANA   \n",
       "4     566727   97   98      CAL             CAL          CAL       ANA   \n",
       "\n",
       "                      franchName  active  NAassoc  \n",
       "0  Los Angeles Angels of Anaheim       Y     None  \n",
       "1  Los Angeles Angels of Anaheim       Y     None  \n",
       "2  Los Angeles Angels of Anaheim       Y     None  \n",
       "3  Los Angeles Angels of Anaheim       Y     None  \n",
       "4  Los Angeles Angels of Anaheim       Y     None  \n",
       "\n",
       "[5 rows x 52 columns]"
      ]
     },
     "execution_count": 15,
     "metadata": {},
     "output_type": "execute_result"
    }
   ],
   "source": [
    "teams_df.head()"
   ]
  },
  {
   "cell_type": "code",
   "execution_count": 16,
   "metadata": {
    "collapsed": true
   },
   "outputs": [],
   "source": [
    "drop_cols = ['lgID','franchID','divID','Rank','Ghome','L','DivWin','WCWin','LgWin','WSWin','SF','name','park','attendance','BPF','PPF','teamIDBR','teamIDlahman45','teamIDretro','franchID','franchName','active','NAassoc']\n",
    "\n",
    "df = teams_df.drop(drop_cols, axis=1)"
   ]
  },
  {
   "cell_type": "code",
   "execution_count": 17,
   "metadata": {},
   "outputs": [
    {
     "data": {
      "text/html": [
       "<div>\n",
       "<style>\n",
       "    .dataframe thead tr:only-child th {\n",
       "        text-align: right;\n",
       "    }\n",
       "\n",
       "    .dataframe thead th {\n",
       "        text-align: left;\n",
       "    }\n",
       "\n",
       "    .dataframe tbody tr th {\n",
       "        vertical-align: top;\n",
       "    }\n",
       "</style>\n",
       "<table border=\"1\" class=\"dataframe\">\n",
       "  <thead>\n",
       "    <tr style=\"text-align: right;\">\n",
       "      <th></th>\n",
       "      <th>yearID</th>\n",
       "      <th>teamID</th>\n",
       "      <th>G</th>\n",
       "      <th>W</th>\n",
       "      <th>R</th>\n",
       "      <th>AB</th>\n",
       "      <th>H</th>\n",
       "      <th>2B</th>\n",
       "      <th>3B</th>\n",
       "      <th>HR</th>\n",
       "      <th>...</th>\n",
       "      <th>SHO</th>\n",
       "      <th>SV</th>\n",
       "      <th>IPouts</th>\n",
       "      <th>HA</th>\n",
       "      <th>HRA</th>\n",
       "      <th>BBA</th>\n",
       "      <th>SOA</th>\n",
       "      <th>E</th>\n",
       "      <th>DP</th>\n",
       "      <th>FP</th>\n",
       "    </tr>\n",
       "  </thead>\n",
       "  <tbody>\n",
       "    <tr>\n",
       "      <th>0</th>\n",
       "      <td>1961</td>\n",
       "      <td>LAA</td>\n",
       "      <td>162</td>\n",
       "      <td>70</td>\n",
       "      <td>744</td>\n",
       "      <td>5424</td>\n",
       "      <td>1331</td>\n",
       "      <td>218</td>\n",
       "      <td>22</td>\n",
       "      <td>189</td>\n",
       "      <td>...</td>\n",
       "      <td>5</td>\n",
       "      <td>34</td>\n",
       "      <td>4314</td>\n",
       "      <td>1391</td>\n",
       "      <td>180</td>\n",
       "      <td>713</td>\n",
       "      <td>973</td>\n",
       "      <td>192</td>\n",
       "      <td>154.0</td>\n",
       "      <td>0.969</td>\n",
       "    </tr>\n",
       "    <tr>\n",
       "      <th>1</th>\n",
       "      <td>1962</td>\n",
       "      <td>LAA</td>\n",
       "      <td>162</td>\n",
       "      <td>86</td>\n",
       "      <td>718</td>\n",
       "      <td>5499</td>\n",
       "      <td>1377</td>\n",
       "      <td>232</td>\n",
       "      <td>35</td>\n",
       "      <td>137</td>\n",
       "      <td>...</td>\n",
       "      <td>15</td>\n",
       "      <td>47</td>\n",
       "      <td>4398</td>\n",
       "      <td>1412</td>\n",
       "      <td>118</td>\n",
       "      <td>616</td>\n",
       "      <td>858</td>\n",
       "      <td>175</td>\n",
       "      <td>153.0</td>\n",
       "      <td>0.972</td>\n",
       "    </tr>\n",
       "    <tr>\n",
       "      <th>2</th>\n",
       "      <td>1963</td>\n",
       "      <td>LAA</td>\n",
       "      <td>161</td>\n",
       "      <td>70</td>\n",
       "      <td>597</td>\n",
       "      <td>5506</td>\n",
       "      <td>1378</td>\n",
       "      <td>208</td>\n",
       "      <td>38</td>\n",
       "      <td>95</td>\n",
       "      <td>...</td>\n",
       "      <td>13</td>\n",
       "      <td>31</td>\n",
       "      <td>4365</td>\n",
       "      <td>1317</td>\n",
       "      <td>120</td>\n",
       "      <td>578</td>\n",
       "      <td>889</td>\n",
       "      <td>163</td>\n",
       "      <td>155.0</td>\n",
       "      <td>0.974</td>\n",
       "    </tr>\n",
       "    <tr>\n",
       "      <th>3</th>\n",
       "      <td>1964</td>\n",
       "      <td>LAA</td>\n",
       "      <td>162</td>\n",
       "      <td>82</td>\n",
       "      <td>544</td>\n",
       "      <td>5362</td>\n",
       "      <td>1297</td>\n",
       "      <td>186</td>\n",
       "      <td>27</td>\n",
       "      <td>102</td>\n",
       "      <td>...</td>\n",
       "      <td>28</td>\n",
       "      <td>41</td>\n",
       "      <td>4350</td>\n",
       "      <td>1273</td>\n",
       "      <td>100</td>\n",
       "      <td>530</td>\n",
       "      <td>965</td>\n",
       "      <td>138</td>\n",
       "      <td>168.0</td>\n",
       "      <td>0.978</td>\n",
       "    </tr>\n",
       "    <tr>\n",
       "      <th>4</th>\n",
       "      <td>1965</td>\n",
       "      <td>CAL</td>\n",
       "      <td>162</td>\n",
       "      <td>75</td>\n",
       "      <td>527</td>\n",
       "      <td>5354</td>\n",
       "      <td>1279</td>\n",
       "      <td>200</td>\n",
       "      <td>36</td>\n",
       "      <td>92</td>\n",
       "      <td>...</td>\n",
       "      <td>14</td>\n",
       "      <td>33</td>\n",
       "      <td>4323</td>\n",
       "      <td>1259</td>\n",
       "      <td>91</td>\n",
       "      <td>563</td>\n",
       "      <td>847</td>\n",
       "      <td>123</td>\n",
       "      <td>149.0</td>\n",
       "      <td>0.981</td>\n",
       "    </tr>\n",
       "  </tbody>\n",
       "</table>\n",
       "<p>5 rows × 29 columns</p>\n",
       "</div>"
      ],
      "text/plain": [
       "   yearID teamID    G   W    R    AB     H   2B  3B   HR  ...    SHO  SV  \\\n",
       "0    1961    LAA  162  70  744  5424  1331  218  22  189  ...      5  34   \n",
       "1    1962    LAA  162  86  718  5499  1377  232  35  137  ...     15  47   \n",
       "2    1963    LAA  161  70  597  5506  1378  208  38   95  ...     13  31   \n",
       "3    1964    LAA  162  82  544  5362  1297  186  27  102  ...     28  41   \n",
       "4    1965    CAL  162  75  527  5354  1279  200  36   92  ...     14  33   \n",
       "\n",
       "   IPouts    HA  HRA  BBA  SOA    E     DP     FP  \n",
       "0    4314  1391  180  713  973  192  154.0  0.969  \n",
       "1    4398  1412  118  616  858  175  153.0  0.972  \n",
       "2    4365  1317  120  578  889  163  155.0  0.974  \n",
       "3    4350  1273  100  530  965  138  168.0  0.978  \n",
       "4    4323  1259   91  563  847  123  149.0  0.981  \n",
       "\n",
       "[5 rows x 29 columns]"
      ]
     },
     "execution_count": 17,
     "metadata": {},
     "output_type": "execute_result"
    }
   ],
   "source": [
    "df.head()"
   ]
  },
  {
   "cell_type": "code",
   "execution_count": 18,
   "metadata": {},
   "outputs": [
    {
     "name": "stdout",
     "output_type": "stream",
     "text": [
      "[0, 0, 0, 0, 0, 0, 0, 0, 0, 0, 0, 0, 0, 0, 0, 0, 0, 0, 0, 0, 0, 0, 0, 0, 0, 0, 0]\n"
     ]
    }
   ],
   "source": [
    "# Eliminating columns with null values\n",
    "df = df.drop(['CS','HBP'], axis=1)\n",
    "\n",
    "# Filling null values\n",
    "df['SO'] = df['SO'].fillna(df['SO'].median())\n",
    "df['DP'] = df['DP'].fillna(df['DP'].median())\n",
    "\n",
    "# Print out null values of all columns of `df`\n",
    "print(df.isnull().sum(axis=0).tolist())"
   ]
  },
  {
   "cell_type": "code",
   "execution_count": 19,
   "metadata": {},
   "outputs": [
    {
     "data": {
      "image/png": "[encoded data removed]",
      "text/plain": [
       "<matplotlib.figure.Figure at 0x7f240f85a5c0>"
      ]
     },
     "metadata": {},
     "output_type": "display_data"
    }
   ],
   "source": [
    "# import the pyplot module from matplotlib\n",
    "import matplotlib.pyplot as plt\n",
    "\n",
    "# matplotlib plots inline  \n",
    "%matplotlib inline\n",
    "\n",
    "# Plotting distribution of wins\n",
    "plt.hist(df['W'])\n",
    "plt.xlabel('Wins')\n",
    "plt.title('Distribution of Wins')\n",
    "\n",
    "plt.show()"
   ]
  },
  {
   "cell_type": "code",
   "execution_count": 20,
   "metadata": {},
   "outputs": [
    {
     "name": "stdout",
     "output_type": "stream",
     "text": [
      "79.23043288150416\n"
     ]
    }
   ],
   "source": [
    "print(df['W'].mean())"
   ]
  },
  {
   "cell_type": "code",
   "execution_count": 24,
   "metadata": {},
   "outputs": [],
   "source": [
    "# Creating bins for the win column\n",
    "def assign_win_bins(_):\n",
    "    if W < 50:\n",
    "        return 1\n",
    "    if W >= 50 and W <= 69:\n",
    "        return 2\n",
    "    if W >= 70 and W <= 89:\n",
    "        return 3\n",
    "    if W >= 90 and W <= 109:\n",
    "        return 4\n",
    "    if W >= 110:\n",
    "        return 5\n",
    "        \n",
    "# Apply `assign_win_bins` to `df['W']`    \n",
    "df['win_bins'] = df['W'].apply(assign_win_bins)"
   ]
  },
  {
   "cell_type": "code",
   "execution_count": 25,
   "metadata": {},
   "outputs": [
    {
     "data": {
      "image/png": "[encoded data removed]",
      "text/plain": [
       "<matplotlib.figure.Figure at 0x7f240d514630>"
      ]
     },
     "metadata": {},
     "output_type": "display_data"
    }
   ],
   "source": [
    "# Plotting scatter graph of Year vs. Wins\n",
    "plt.scatter(df['yearID'], df['W'], c=df['win_bins'])\n",
    "plt.title('Wins Scatter Plot')\n",
    "plt.xlabel('Year')\n",
    "plt.ylabel('Wins')\n",
    "\n",
    "plt.show()"
   ]
  },
  {
   "cell_type": "code",
   "execution_count": 26,
   "metadata": {
    "collapsed": true
   },
   "outputs": [],
   "source": [
    "# Filter for rows where 'yearID' is greater than 1900\n",
    "df = df[df['yearID'] > 1900]"
   ]
  },
  {
   "cell_type": "code",
   "execution_count": 27,
   "metadata": {},
   "outputs": [
    {
     "name": "stdout",
     "output_type": "stream",
     "text": [
      "{1961: 12942, 1962: 14461, 1963: 12780, 1964: 13124, 1965: 12946, 1966: 12900, 1967: 12210, 1968: 11109, 1969: 15850, 1970: 16880, 1971: 15073, 1972: 13706, 1973: 16376, 1974: 16046, 1975: 16295, 1976: 15492, 1977: 18803, 1978: 17251, 1979: 18713, 1980: 18053, 1982: 18110, 1983: 18170, 1984: 17921, 1985: 18216, 1986: 18545, 1987: 19883, 1988: 17380, 1989: 17405, 1990: 17919, 1991: 18127, 1992: 17341, 1993: 20864, 1996: 22831, 1997: 21604, 1998: 23297, 1999: 24691, 2000: 24971, 2001: 23199, 2002: 22408, 2003: 22978, 2004: 23376, 2005: 22325, 2006: 23599, 2007: 23322, 2008: 22585, 2009: 22419, 2010: 21308, 2011: 20808, 2012: 21017, 2013: 20255, 2014: 19761, 2015: 20647, 2016: 21744, 1904: 9307, 1905: 9640, 1906: 8322, 1907: 8186, 1908: 8423, 1909: 8805, 1910: 9580, 1911: 11164, 1912: 11154, 1913: 9964, 1914: 9408, 1915: 9444, 1916: 8889, 1917: 8948, 1920: 10762, 1921: 11935, 1922: 12059, 1923: 11874, 1924: 11722, 1925: 12596, 1926: 11443, 1927: 11745, 1928: 11645, 1929: 12747, 1930: 13695, 1931: 11892, 1932: 12116, 1933: 10288, 1934: 11325, 1935: 10498, 1936: 12846, 1937: 12070, 1938: 11260, 1939: 11876, 1940: 11568, 1941: 11168, 1942: 9457, 1943: 9694, 1944: 10353, 1945: 9729, 1946: 9953, 1947: 10827, 1948: 11328, 1949: 11426, 1950: 12013, 1951: 11268, 1952: 10349, 1953: 11426, 1954: 10827, 1955: 11069, 1956: 11031, 1957: 10636, 1958: 10578, 1959: 10853, 1960: 10664}\n",
      "{1961: 2860, 1962: 3242, 1963: 3238, 1964: 3252, 1965: 3246, 1966: 3230, 1967: 3240, 1968: 3250, 1969: 3892, 1970: 3888, 1971: 3876, 1972: 3718, 1973: 3886, 1974: 3890, 1975: 3868, 1976: 3878, 1977: 4206, 1978: 4204, 1979: 4198, 1980: 4210, 1982: 4214, 1983: 4218, 1984: 4210, 1985: 4206, 1986: 4206, 1987: 4210, 1988: 4200, 1989: 4212, 1990: 4210, 1991: 4208, 1992: 4212, 1993: 4538, 1996: 4534, 1997: 4532, 1998: 4864, 1999: 4856, 2000: 4858, 2001: 4858, 2002: 4852, 2003: 4860, 2004: 4856, 2005: 4862, 2006: 4858, 2007: 4862, 2008: 4856, 2009: 4860, 2010: 4860, 2011: 4858, 2012: 4860, 2013: 4862, 2014: 4860, 2015: 4858, 2016: 4856, 1904: 2498, 1905: 2474, 1906: 2307, 1907: 2317, 1908: 2488, 1909: 2482, 1910: 2498, 1911: 2474, 1912: 2464, 1913: 2468, 1914: 2512, 1915: 2490, 1916: 2494, 1917: 2494, 1920: 2468, 1921: 2458, 1922: 2476, 1923: 2466, 1924: 2462, 1925: 2456, 1926: 2468, 1927: 2472, 1928: 2462, 1929: 2458, 1930: 2468, 1931: 2472, 1932: 2466, 1933: 2303, 1934: 2297, 1935: 2158, 1936: 2476, 1937: 2478, 1938: 2297, 1939: 2462, 1940: 2472, 1941: 2488, 1942: 2300, 1943: 2476, 1944: 2484, 1945: 2313, 1946: 2484, 1947: 2486, 1948: 2474, 1949: 2480, 1950: 2476, 1951: 2478, 1952: 2478, 1953: 2480, 1954: 2474, 1955: 2468, 1956: 2478, 1957: 2470, 1958: 2470, 1959: 2476, 1960: 2472}\n"
     ]
    }
   ],
   "source": [
    "# Create runs per year and games per year dictionaries\n",
    "runs_per_year = {}\n",
    "games_per_year = {}\n",
    "\n",
    "for i, row in df.iterrows():\n",
    "    year = row['yearID']\n",
    "    runs = row['R']\n",
    "    games = row['G']\n",
    "    if year in runs_per_year:\n",
    "        runs_per_year[year] = runs_per_year[year] + runs\n",
    "        games_per_year[year] = games_per_year[year] + games\n",
    "    else:\n",
    "        runs_per_year[year] = runs\n",
    "        games_per_year[year] = games\n",
    "        \n",
    "print(runs_per_year)\n",
    "print(games_per_year)"
   ]
  },
  {
   "cell_type": "code",
   "execution_count": 28,
   "metadata": {},
   "outputs": [
    {
     "name": "stdout",
     "output_type": "stream",
     "text": [
      "{1961: 4.525174825174825, 1962: 4.460518198642813, 1963: 3.9468807906114884, 1964: 4.035670356703567, 1965: 3.9882932840418976, 1966: 3.9938080495356036, 1967: 3.7685185185185186, 1968: 3.4181538461538463, 1969: 4.07245632065776, 1970: 4.341563786008231, 1971: 3.8888028895768834, 1972: 3.6863905325443787, 1973: 4.214101904271745, 1974: 4.124935732647815, 1975: 4.21277145811789, 1976: 3.99484270242393, 1977: 4.470518307180218, 1978: 4.103472882968601, 1979: 4.457598856598381, 1980: 4.2881235154394295, 1982: 4.297579496915045, 1983: 4.307728781412992, 1984: 4.256769596199525, 1985: 4.330955777460771, 1986: 4.409177365668093, 1987: 4.722802850356294, 1988: 4.1380952380952385, 1989: 4.132241215574549, 1990: 4.256294536817102, 1991: 4.307747148288973, 1992: 4.1170465337132, 1993: 4.597620096959012, 1996: 5.0355094838994265, 1997: 4.766990291262136, 1998: 4.789679276315789, 1999: 5.0846375617792425, 2000: 5.140181144503911, 2001: 4.7754219843557015, 2002: 4.6183017312448476, 2003: 4.72798353909465, 2004: 4.813838550247117, 2005: 4.591731797614151, 2006: 4.857760395224372, 2007: 4.7967914438502675, 2008: 4.650947281713345, 2009: 4.612962962962963, 2010: 4.3843621399176955, 2011: 4.283244133388226, 2012: 4.324485596707819, 2013: 4.1659810777457835, 2014: 4.0660493827160495, 2015: 4.250102923013586, 2016: 4.477759472817134, 1904: 3.7257806244995995, 1905: 3.896523848019402, 1906: 3.6072821846553964, 1907: 3.5330168321104876, 1908: 3.385450160771704, 1909: 3.5475423045930703, 1910: 3.8350680544435547, 1911: 4.512530315278901, 1912: 4.526785714285714, 1913: 4.037277147487845, 1914: 3.745222929936306, 1915: 3.792771084337349, 1916: 3.5641539695268647, 1917: 3.587810745789896, 1920: 4.360615883306321, 1921: 4.855573637103336, 1922: 4.870355411954765, 1923: 4.815085158150851, 1924: 4.761169780666125, 1925: 5.128664495114006, 1926: 4.636547811993517, 1927: 4.75121359223301, 1928: 4.729894394800975, 1929: 5.185923515052888, 1930: 5.5490275526742305, 1931: 4.810679611650485, 1932: 4.913219789132198, 1933: 4.467216673903604, 1934: 4.9303439268611235, 1935: 4.86468952734013, 1936: 5.188206785137318, 1937: 4.870863599677159, 1938: 4.902046147148455, 1939: 4.823720552396425, 1940: 4.679611650485437, 1941: 4.488745980707395, 1942: 4.111739130434783, 1943: 3.9151857835218093, 1944: 4.167874396135265, 1945: 4.206225680933852, 1946: 4.006843800322061, 1947: 4.3551890587288815, 1948: 4.5788197251414715, 1949: 4.607258064516129, 1950: 4.851777059773829, 1951: 4.547215496368039, 1952: 4.17635189669088, 1953: 4.607258064516129, 1954: 4.376313662085691, 1955: 4.485008103727715, 1956: 4.451573849878935, 1957: 4.306072874493927, 1958: 4.282591093117409, 1959: 4.383279483037157, 1960: 4.313915857605178}\n"
     ]
    }
   ],
   "source": [
    "# Create MLB runs per game (per year) dictionary\n",
    "mlb_runs_per_game = {}\n",
    "for k, v in games_per_year.items():\n",
    "    year = k\n",
    "    games = v\n",
    "    runs = runs_per_year[year]\n",
    "    mlb_runs_per_game[year] = runs / games\n",
    "    \n",
    "print(mlb_runs_per_game)"
   ]
  },
  {
   "cell_type": "code",
   "execution_count": 29,
   "metadata": {},
   "outputs": [
    {
     "data": {
      "image/png": "[encoded data removed]",
      "text/plain": [
       "<matplotlib.figure.Figure at 0x7f2409c16e80>"
      ]
     },
     "metadata": {},
     "output_type": "display_data"
    }
   ],
   "source": [
    "# Create lists from mlb_runs_per_game dictionary\n",
    "lists = sorted(mlb_runs_per_game.items())\n",
    "x, y = zip(*lists)\n",
    "\n",
    "# Create line plot of Year vs. MLB runs per Game\n",
    "plt.plot(x, y)\n",
    "plt.title('MLB Yearly Runs per Game')\n",
    "plt.xlabel('Year')\n",
    "plt.ylabel('MLB Runs per Game')\n",
    "\n",
    "plt.show()"
   ]
  },
  {
   "cell_type": "code",
   "execution_count": 31,
   "metadata": {},
   "outputs": [
    {
     "name": "stdout",
     "output_type": "stream",
     "text": [
      "   yearID teamID    G   W    R    AB     H   2B  3B   HR  ...    win_bins  \\\n",
      "0    1961    LAA  162  70  744  5424  1331  218  22  189  ...           3   \n",
      "1    1962    LAA  162  86  718  5499  1377  232  35  137  ...           3   \n",
      "2    1963    LAA  161  70  597  5506  1378  208  38   95  ...           3   \n",
      "3    1964    LAA  162  82  544  5362  1297  186  27  102  ...           3   \n",
      "4    1965    CAL  162  75  527  5354  1279  200  36   92  ...           3   \n",
      "\n",
      "   year_label  era_1  era_2  era_3  era_4  era_5  era_6  era_7  era_8  \n",
      "0           4      0      0      0      1      0      0      0      0  \n",
      "1           4      0      0      0      1      0      0      0      0  \n",
      "2           5      0      0      0      0      1      0      0      0  \n",
      "3           5      0      0      0      0      1      0      0      0  \n",
      "4           5      0      0      0      0      1      0      0      0  \n",
      "\n",
      "[5 rows x 37 columns]\n"
     ]
    }
   ],
   "source": [
    "# Creating \"year_label\" column, which will give your algorithm information about how certain years are related \n",
    "# (Dead ball eras, Live ball/Steroid Eras)\n",
    "\n",
    "def assign_label(year):\n",
    "    if year < 1920:\n",
    "        return 1\n",
    "    elif year >= 1920 and year <= 1941:\n",
    "        return 2\n",
    "    elif year >= 1942 and year <= 1945:\n",
    "        return 3\n",
    "    elif year >= 1946 and year <= 1962:\n",
    "        return 4\n",
    "    elif year >= 1963 and year <= 1976:\n",
    "        return 5\n",
    "    elif year >= 1977 and year <= 1992:\n",
    "        return 6\n",
    "    elif year >= 1993 and year <= 2009:\n",
    "        return 7\n",
    "    elif year >= 2010:\n",
    "        return 8\n",
    "        \n",
    "# Add `year_label` column to `df`    \n",
    "df['year_label'] = df['yearID'].apply(assign_label)\n",
    "\n",
    "dummy_df = pd.get_dummies(df['year_label'], prefix='era')\n",
    "\n",
    "# Concatenate `df` and `dummy_df`\n",
    "df = pd.concat([df, dummy_df], axis=1)\n",
    "\n",
    "print(df.head())"
   ]
  },
  {
   "cell_type": "code",
   "execution_count": 32,
   "metadata": {
    "collapsed": true
   },
   "outputs": [],
   "source": [
    "# Create column for MLB runs per game from the mlb_runs_per_game dictionary\n",
    "def assign_mlb_rpg(year):\n",
    "    return mlb_runs_per_game[year]\n",
    "\n",
    "df['mlb_rpg'] = df['yearID'].apply(assign_mlb_rpg)"
   ]
  },
  {
   "cell_type": "code",
   "execution_count": 33,
   "metadata": {
    "collapsed": true
   },
   "outputs": [],
   "source": [
    "# Convert years into decade bins and creating dummy variables\n",
    "def assign_decade(year):\n",
    "    if year < 1920:\n",
    "        return 1910\n",
    "    elif year >= 1920 and year <= 1929:\n",
    "        return 1920\n",
    "    elif year >= 1930 and year <= 1939:\n",
    "        return 1930\n",
    "    elif year >= 1940 and year <= 1949:\n",
    "        return 1940\n",
    "    elif year >= 1950 and year <= 1959:\n",
    "        return 1950\n",
    "    elif year >= 1960 and year <= 1969:\n",
    "        return 1960\n",
    "    elif year >= 1970 and year <= 1979:\n",
    "        return 1970\n",
    "    elif year >= 1980 and year <= 1989:\n",
    "        return 1980\n",
    "    elif year >= 1990 and year <= 1999:\n",
    "        return 1990\n",
    "    elif year >= 2000 and year <= 2009:\n",
    "        return 2000\n",
    "    elif year >= 2010:\n",
    "        return 2010\n",
    "    \n",
    "df['decade_label'] = df['yearID'].apply(assign_decade)\n",
    "decade_df = pd.get_dummies(df['decade_label'], prefix='decade')\n",
    "df = pd.concat([df, decade_df], axis=1)\n",
    "\n",
    "# Drop unnecessary columns\n",
    "df = df.drop(['yearID','year_label','decade_label'], axis=1)"
   ]
  },
  {
   "cell_type": "code",
   "execution_count": 34,
   "metadata": {
    "collapsed": true
   },
   "outputs": [],
   "source": [
    "# Create new features for Runs per Game and Runs Allowed per Game\n",
    "df['R_per_game'] = df['R'] / df['G']\n",
    "df['RA_per_game'] = df['RA'] / df['G']"
   ]
  },
  {
   "cell_type": "code",
   "execution_count": 35,
   "metadata": {},
   "outputs": [
    {
     "data": {
      "image/png": "[encoded data removed]",
      "text/plain": [
       "<matplotlib.figure.Figure at 0x7f240828e5f8>"
      ]
     },
     "metadata": {},
     "output_type": "display_data"
    }
   ],
   "source": [
    "# Create scatter plots for runs per game vs. wins and runs allowed per game vs. wins\n",
    "fig = plt.figure(figsize=(12, 6))\n",
    "\n",
    "ax1 = fig.add_subplot(1,2,1)\n",
    "ax2 = fig.add_subplot(1,2,2)\n",
    "\n",
    "ax1.scatter(df['R_per_game'], df['W'], c='blue')\n",
    "ax1.set_title('Runs per Game vs. Wins')\n",
    "ax1.set_ylabel('Wins')\n",
    "ax1.set_xlabel('Runs per Game')\n",
    "\n",
    "ax2.scatter(df['RA_per_game'], df['W'], c='red')\n",
    "ax2.set_title('Runs Allowed per Game vs. Wins')\n",
    "ax2.set_xlabel('Runs Allowed per Game')\n",
    "\n",
    "plt.show()"
   ]
  },
  {
   "cell_type": "code",
   "execution_count": 36,
   "metadata": {},
   "outputs": [
    {
     "data": {
      "text/plain": [
       "G              0.178958\n",
       "W              1.000000\n",
       "R              0.551504\n",
       "AB             0.233996\n",
       "H              0.380281\n",
       "2B             0.262323\n",
       "3B             0.016970\n",
       "HR             0.312713\n",
       "BB             0.345348\n",
       "SO             0.072069\n",
       "SB             0.133300\n",
       "RA            -0.518313\n",
       "ER            -0.372580\n",
       "ERA           -0.425833\n",
       "CG            -0.041788\n",
       "SHO            0.426892\n",
       "SV             0.382174\n",
       "IPouts         0.326087\n",
       "HA            -0.384893\n",
       "HRA            0.009880\n",
       "BBA           -0.284782\n",
       "SOA            0.259205\n",
       "E             -0.304725\n",
       "DP             0.015192\n",
       "FP             0.319597\n",
       "win_bins       0.912545\n",
       "era_1         -0.077104\n",
       "era_2         -0.083089\n",
       "era_3         -0.033073\n",
       "era_4         -0.052278\n",
       "era_5          0.042122\n",
       "era_6          0.058439\n",
       "era_7          0.066049\n",
       "era_8          0.043453\n",
       "mlb_rpg        0.006909\n",
       "decade_1910   -0.077104\n",
       "decade_1920   -0.055176\n",
       "decade_1930   -0.052358\n",
       "decade_1940   -0.050249\n",
       "decade_1950   -0.047499\n",
       "decade_1960    0.028594\n",
       "decade_1970    0.033679\n",
       "decade_1980    0.043516\n",
       "decade_1990    0.044150\n",
       "decade_2000    0.052283\n",
       "decade_2010    0.043453\n",
       "R_per_game     0.528489\n",
       "RA_per_game   -0.550696\n",
       "Name: W, dtype: float64"
      ]
     },
     "execution_count": 36,
     "metadata": {},
     "output_type": "execute_result"
    }
   ],
   "source": [
    " df.corr()['W']"
   ]
  },
  {
   "cell_type": "code",
   "execution_count": null,
   "metadata": {
    "collapsed": true
   },
   "outputs": [],
   "source": []
  }
 ],
 "metadata": {
  "kernelspec": {
   "display_name": "Python 3",
   "language": "python",
   "name": "python3"
  },
  "language_info": {
   "codemirror_mode": {
    "name": "ipython",
    "version": 3
   },
   "file_extension": ".py",
   "mimetype": "text/x-python",
   "name": "python",
   "nbconvert_exporter": "python",
   "pygments_lexer": "ipython3",
   "version": "3.6.1"
  }
 },
 "nbformat": 4,
 "nbformat_minor": 2
}
